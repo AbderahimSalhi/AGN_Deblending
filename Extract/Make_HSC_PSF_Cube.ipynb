{
 "cells": [
  {
   "cell_type": "code",
   "execution_count": 24,
   "metadata": {},
   "outputs": [],
   "source": [
    "import numpy as np\n",
    "# import scarlet\n",
    "# import scarlet.display\n",
    "# from scarlet.display import AsinhMapping\n",
    "# from scarlet.initialization import build_initialization_coadd\n",
    "\n",
    "# from astropy.wcs import WCS\n",
    "# from astropy.nddata import Cutout2D\n",
    "\n",
    "\n",
    "import pylab as plt\n",
    "import astropy.io.fits as fits\n",
    "from astropy.io import fits as pf\n",
    "from astropy.visualization import astropy_mpl_style\n",
    "import os, re\n",
    "\n",
    "%matplotlib inline\n",
    "\n",
    "plt.style.use(astropy_mpl_style)\n",
    "\n",
    "import matplotlib\n",
    "import matplotlib.pyplot as plt\n",
    "\n",
    "# use a better colormap and don't interpolate the pixels\n",
    "matplotlib.rc('image', cmap='gist_stern')\n",
    "matplotlib.rc('image', interpolation='none')\n",
    "\n",
    "import warnings\n",
    "warnings.simplefilter(\"ignore\")\n"
   ]
  },
  {
   "cell_type": "code",
   "execution_count": 36,
   "metadata": {},
   "outputs": [],
   "source": [
    "path = '/Users/rahim/Desktop/repo/AGN_Deblending/Extract/data/HSC_PSF/'\n",
    "path_cube_hsc_psf = '/Users/rahim/Desktop/repo/AGN_Deblending/Extract/data/HSC_PSF_cube'\n",
    "\n",
    "\n",
    "\n",
    "#sort HSC PSF fits files based on their starting name index in an ordered list\n",
    "images = []\n",
    "\n",
    "for i in range (2, len(os.listdir(path))+1):\n",
    "    for image in os.listdir(path):\n",
    "        if re.match(str(i)+'-', image):\n",
    "            hdus = fits.open(path + image)[0]\n",
    "            img = hdus.data\n",
    "            ny, nx = img.shape\n",
    "            cut = Cutout2D(img, (ny//2, nx//2), (40, 40), wcs = None)\n",
    "            images.append(cut.data)\n",
    "#             plt.imshow(cut.data)\n",
    "#             plt.show()\n",
    "            \n",
    "ind = 2\n",
    "for i in range(0, len(images), 5):\n",
    "    \n",
    "    hdu = fits.PrimaryHDU(images[i : i+5])\n",
    "    hdul = pf.HDUList([hdu])\n",
    "    \n",
    "    hdul.writeto(path_cube_hsc_psf + f'/{ind}-cube_hsc_psf.fits', clobber=True)\n",
    "    ind += 1\n",
    "\n",
    "\n",
    "        \n"
   ]
  },
  {
   "cell_type": "code",
   "execution_count": null,
   "metadata": {},
   "outputs": [],
   "source": []
  }
 ],
 "metadata": {
  "kernelspec": {
   "display_name": "Python 3",
   "language": "python",
   "name": "python3"
  },
  "language_info": {
   "codemirror_mode": {
    "name": "ipython",
    "version": 3
   },
   "file_extension": ".py",
   "mimetype": "text/x-python",
   "name": "python",
   "nbconvert_exporter": "python",
   "pygments_lexer": "ipython3",
   "version": "3.7.6"
  }
 },
 "nbformat": 4,
 "nbformat_minor": 4
}
