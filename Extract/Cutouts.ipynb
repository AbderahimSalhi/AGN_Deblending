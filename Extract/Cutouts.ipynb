{
 "cells": [
  {
   "cell_type": "code",
   "execution_count": 1,
   "metadata": {},
   "outputs": [],
   "source": [
    "import numpy as np\n",
    "import matplotlib.pyplot as plt\n",
    "\n",
    "import scarlet\n",
    "from astropy.wcs import WCS\n",
    "import astropy.io.fits as fits\n",
    "from astropy.nddata import Cutout2D\n",
    "\n",
    "import warnings\n",
    "warnings.simplefilter(\"ignore\")"
   ]
  },
  {
   "cell_type": "code",
   "execution_count": 2,
   "metadata": {
    "scrolled": true
   },
   "outputs": [],
   "source": [
    "#paths\n",
    "path = '/Users/rahim/Desktop/repo/AGN_Deblending/Extract/data/HSC_Images/'\n",
    "path_hst = '/Users/rahim/Desktop/repo/AGN_Deblending/Extract/data/acs_mosaic_2.0/'\n",
    "\n",
    "#Hst data\n",
    "hdu_HST= fits.open(path_hst + '10_150.1797581_2.1103119_acs_I_mosaic_30mas_sci.fits')\n",
    "\n",
    "#HSC data\n",
    "hdu_HSC_G= fits.open(path + '10-cutout-HSC-G-9813-pdr2_dud.fits')\n",
    "hdu_HSC_R= fits.open(path + '10-cutout-HSC-R-9813-pdr2_dud.fits')\n",
    "hdu_HSC_I= fits.open(path + '10-cutout-HSC-I-9813-pdr2_dud.fits')\n",
    "hdu_HSC_Z= fits.open(path + '10-cutout-HSC-Z-9813-pdr2_dud.fits')\n",
    "hdu_HSC_Y= fits.open(path + '10-cutout-HSC-Y-9813-pdr2_dud.fits')"
   ]
  },
  {
   "cell_type": "code",
   "execution_count": 3,
   "metadata": {},
   "outputs": [],
   "source": [
    "def mk_cut(image, wcs, coord, size = 8.35):\n",
    "    \"\"\" Makes a cutout of an image and its wcs around a coordinate\n",
    "    \n",
    "    Parameters\n",
    "    ----------\n",
    "    data: numpy array\n",
    "        image\n",
    "    wcs: WCS\n",
    "        wcs of the image\n",
    "    coord: tuple\n",
    "        coordinates around which to cut (degrees)\n",
    "    size: float\n",
    "        width of the cutout in arcseconds. default is 8.35 (~50 HSC pixels)\n",
    "    \"\"\"\n",
    "    try:\n",
    "        model_affine = wcs.wcs.pc\n",
    "    except AttributeError:\n",
    "        model_affine = wcs.wcs.cd\n",
    "    #computes the pixel scale of the observation in arcseconds\n",
    "    pix_scale = np.sqrt(np.abs(model_affine[0, 0])\n",
    "        * np.abs(model_affine[1, 1] - model_affine[0, 1] * model_affine[1, 0]))\n",
    "    #Center of the cut in (ra, dec)\n",
    "    ra, dec = coord\n",
    "    #Converts center in pixels. To make a cut around the center of an image, simply use the index of the central pixel instead.\n",
    "    if np.size(wcs.array_shape) == 2:\n",
    "        y, x = wcs.all_world2pix(ra, dec, 0, ra_dec_order=True)\n",
    "    elif np.size(wcs.array_shape) == 3:\n",
    "        y, x, _ = wcs.all_world2pix(ra, dec, 0, 0, ra_dec_order=True)\n",
    "    #Size of the cut in pixels.\n",
    "    radius = size / 3600 / pix_scale\n",
    "    #Make the cut  in the image AND the WCS\n",
    "    cut = Cutout2D(image, (y, x), (radius, radius), wcs = wcs)\n",
    "\n",
    "    return cut\n",
    "\n",
    "def mk_psf(coord):\n",
    "    \"\"\" makes single band psfs into cubes of psfs\n",
    "    \"\"\"\n",
    "    path_psf = '/Users/rahim/Desktop/repo/AGN_Deblending/Extract/data/HSC_PSF/'\n",
    "    \n",
    "    psf = fits.open(path_psf + f'10-psf-calexp-pdr2_dud-HSC-I-9813-4,3-{coord[0]:.5f}-{coord[1]:.5f}.fits')[0].data\n",
    "    psfs = np.zeros((5, np.shape(psf)[-2], np.shape(psf)[-1]))\n",
    "    \n",
    "    for i,filter in enumerate(('G', 'R', 'I', 'Z', 'Y')):\n",
    "        filename = path_psf + f'10-psf-calexp-pdr2_dud-HSC-{filter}-9813-4,3-{coord[0]:.5f}-{coord[1]:.5f}.fits'\n",
    "        psf = fits.open(filename)[0].data\n",
    "        psfs[i] = psf\n",
    "    name = f'psf-calexp-pdr2_dud-HSC-9813-4,3-{coord[0]:.5f}-{coord[1]:.5f}.fits'\n",
    "    return np.array(psfs), name\n",
    "    print(filename)\n"
   ]
  },
  {
   "cell_type": "code",
   "execution_count": 5,
   "metadata": {},
   "outputs": [],
   "source": [
    "def mk_hst_hsc_cuts(coord, size = 9):\n",
    "    \"\"\" Saves the cuts in fits files\n",
    "    \"\"\"\n",
    "    cut_hst = mk_cut(hdu_HST[0].data, WCS(hdu_HST[0].header), coord, size = size)\n",
    "    cut_hsc_g = mk_cut(hdu_HSC_G[1].data, WCS(hdu_HSC_G[1].header), coord, size = 9)\n",
    "    cut_hsc_r = mk_cut(hdu_HSC_R[1].data, WCS(hdu_HSC_R[1].header), coord, size = 9)\n",
    "    cut_hsc_i = mk_cut(hdu_HSC_I[1].data, WCS(hdu_HSC_I[1].header), coord, size = 9)\n",
    "    cut_hsc_z = mk_cut(hdu_HSC_Z[1].data, WCS(hdu_HSC_Z[1].header), coord, size = 9)\n",
    "    cut_hsc_y = mk_cut(hdu_HSC_Y[1].data, WCS(hdu_HSC_Y[1].header), coord, size = 9)\n",
    "    \n",
    "    cuts = (cut_hsc_g, cut_hsc_r, cut_hsc_i, cut_hsc_z, cut_hsc_y)\n",
    "    n1,n2 = cut_hsc_g.shape\n",
    "    data_hsc = np.zeros((5,n1,n2))\n",
    "    for i in range(len(cuts)):\n",
    "        data_hsc[i] = cuts[i].data / np.sum(cuts[i].data) * np.size(cuts[i].data)\n",
    "\n",
    "    cut_hst.data /= np.sum(cut_hst.data)/np.size(cut_hst.data)\n",
    "    #WCS is stored in the header (hdr) of the fits \n",
    "    #Here I arbitrarily use the header of the i-band to make the cube header\n",
    "    hdr_hsc = cut_hsc_i.wcs.to_header()\n",
    "    hdr_hst = cut_hst.wcs.to_header()\n",
    "\n",
    "    plt.subplot(121)\n",
    "    plt.imshow(np.log10(cut_hst.data), cmap = 'gist_stern')\n",
    "    plt.subplot(122)\n",
    "    plt.imshow(cut_hsc_i.data, cmap = 'gist_stern')\n",
    "    plt.show()\n",
    "    \n",
    "    #The header argument is how you save the wcs \n",
    "    hdus = fits.PrimaryHDU(np.array(data_hsc), header = hdr_hsc)\n",
    "    #print(hdus.shape, hdus.dtype, hdus.dtype.name, hdus.dtype.type)\n",
    "    lists = fits.HDUList([hdus])\n",
    "#     lists.writeto(F'hsc_ra={coord[0]:.5f}_dec={coord[1]:.5f}.fits', clobber=True)\n",
    "    \n",
    "    hdus = fits.PrimaryHDU(cut_hst.data, header = hdr_hst)\n",
    "    lists = fits.HDUList([hdus])\n",
    "#     lists.writeto(F'hst_ra={coord[0]:.5f}_dec={coord[1]:.5f}.fits', clobber=True)\n",
    "    \n",
    "    psf, name = mk_psf(coord)\n",
    "    \n",
    "    hdus = fits.PrimaryHDU(psf)\n",
    "    lists = fits.HDUList([hdus])\n",
    "#     lists.writeto(f'psf_hsc_ra={coord[0]:.5f}_dec={coord[1]:.5f}.fits', clobber=True)\n",
    "#     pass"
   ]
  },
  {
   "cell_type": "code",
   "execution_count": 7,
   "metadata": {
    "scrolled": true
   },
   "outputs": [
    {
     "ename": "NoOverlapError",
     "evalue": "Arrays do not overlap.",
     "output_type": "error",
     "traceback": [
      "\u001b[0;31m---------------------------------------------------------------------------\u001b[0m",
      "\u001b[0;31mNoOverlapError\u001b[0m                            Traceback (most recent call last)",
      "\u001b[0;32m<ipython-input-7-75a2d7b5630f>\u001b[0m in \u001b[0;36m<module>\u001b[0;34m\u001b[0m\n\u001b[1;32m      6\u001b[0m \u001b[0;31m#mk_hst_hsc_cuts((150.3305180, 2.0707583))\u001b[0m\u001b[0;34m\u001b[0m\u001b[0;34m\u001b[0m\u001b[0;34m\u001b[0m\u001b[0m\n\u001b[1;32m      7\u001b[0m \u001b[0;31m# mk_hst_hsc_cuts((149.4978988, 2.0766533))\u001b[0m\u001b[0;34m\u001b[0m\u001b[0;34m\u001b[0m\u001b[0;34m\u001b[0m\u001b[0m\n\u001b[0;32m----> 8\u001b[0;31m \u001b[0mmk_hst_hsc_cuts\u001b[0m\u001b[0;34m(\u001b[0m\u001b[0;34m(\u001b[0m\u001b[0;36m150.1947519\u001b[0m\u001b[0;34m,\u001b[0m \u001b[0;36m2.0678959\u001b[0m\u001b[0;34m)\u001b[0m\u001b[0;34m)\u001b[0m\u001b[0;34m\u001b[0m\u001b[0;34m\u001b[0m\u001b[0m\n\u001b[0m",
      "\u001b[0;32m<ipython-input-5-60c7571b9ce9>\u001b[0m in \u001b[0;36mmk_hst_hsc_cuts\u001b[0;34m(coord, size)\u001b[0m\n\u001b[1;32m      2\u001b[0m     \"\"\" Saves the cuts in fits files\n\u001b[1;32m      3\u001b[0m     \"\"\"\n\u001b[0;32m----> 4\u001b[0;31m     \u001b[0mcut_hst\u001b[0m \u001b[0;34m=\u001b[0m \u001b[0mmk_cut\u001b[0m\u001b[0;34m(\u001b[0m\u001b[0mhdu_HST\u001b[0m\u001b[0;34m[\u001b[0m\u001b[0;36m0\u001b[0m\u001b[0;34m]\u001b[0m\u001b[0;34m.\u001b[0m\u001b[0mdata\u001b[0m\u001b[0;34m,\u001b[0m \u001b[0mWCS\u001b[0m\u001b[0;34m(\u001b[0m\u001b[0mhdu_HST\u001b[0m\u001b[0;34m[\u001b[0m\u001b[0;36m0\u001b[0m\u001b[0;34m]\u001b[0m\u001b[0;34m.\u001b[0m\u001b[0mheader\u001b[0m\u001b[0;34m)\u001b[0m\u001b[0;34m,\u001b[0m \u001b[0mcoord\u001b[0m\u001b[0;34m,\u001b[0m \u001b[0msize\u001b[0m \u001b[0;34m=\u001b[0m \u001b[0msize\u001b[0m\u001b[0;34m)\u001b[0m\u001b[0;34m\u001b[0m\u001b[0;34m\u001b[0m\u001b[0m\n\u001b[0m\u001b[1;32m      5\u001b[0m     \u001b[0mcut_hsc_g\u001b[0m \u001b[0;34m=\u001b[0m \u001b[0mmk_cut\u001b[0m\u001b[0;34m(\u001b[0m\u001b[0mhdu_HSC_G\u001b[0m\u001b[0;34m[\u001b[0m\u001b[0;36m1\u001b[0m\u001b[0;34m]\u001b[0m\u001b[0;34m.\u001b[0m\u001b[0mdata\u001b[0m\u001b[0;34m,\u001b[0m \u001b[0mWCS\u001b[0m\u001b[0;34m(\u001b[0m\u001b[0mhdu_HSC_G\u001b[0m\u001b[0;34m[\u001b[0m\u001b[0;36m1\u001b[0m\u001b[0;34m]\u001b[0m\u001b[0;34m.\u001b[0m\u001b[0mheader\u001b[0m\u001b[0;34m)\u001b[0m\u001b[0;34m,\u001b[0m \u001b[0mcoord\u001b[0m\u001b[0;34m,\u001b[0m \u001b[0msize\u001b[0m \u001b[0;34m=\u001b[0m \u001b[0;36m9\u001b[0m\u001b[0;34m)\u001b[0m\u001b[0;34m\u001b[0m\u001b[0;34m\u001b[0m\u001b[0m\n\u001b[1;32m      6\u001b[0m     \u001b[0mcut_hsc_r\u001b[0m \u001b[0;34m=\u001b[0m \u001b[0mmk_cut\u001b[0m\u001b[0;34m(\u001b[0m\u001b[0mhdu_HSC_R\u001b[0m\u001b[0;34m[\u001b[0m\u001b[0;36m1\u001b[0m\u001b[0;34m]\u001b[0m\u001b[0;34m.\u001b[0m\u001b[0mdata\u001b[0m\u001b[0;34m,\u001b[0m \u001b[0mWCS\u001b[0m\u001b[0;34m(\u001b[0m\u001b[0mhdu_HSC_R\u001b[0m\u001b[0;34m[\u001b[0m\u001b[0;36m1\u001b[0m\u001b[0;34m]\u001b[0m\u001b[0;34m.\u001b[0m\u001b[0mheader\u001b[0m\u001b[0;34m)\u001b[0m\u001b[0;34m,\u001b[0m \u001b[0mcoord\u001b[0m\u001b[0;34m,\u001b[0m \u001b[0msize\u001b[0m \u001b[0;34m=\u001b[0m \u001b[0;36m9\u001b[0m\u001b[0;34m)\u001b[0m\u001b[0;34m\u001b[0m\u001b[0;34m\u001b[0m\u001b[0m\n",
      "\u001b[0;32m<ipython-input-3-58cfbad30443>\u001b[0m in \u001b[0;36mmk_cut\u001b[0;34m(image, wcs, coord, size)\u001b[0m\n\u001b[1;32m     30\u001b[0m     \u001b[0mradius\u001b[0m \u001b[0;34m=\u001b[0m \u001b[0msize\u001b[0m \u001b[0;34m/\u001b[0m \u001b[0;36m3600\u001b[0m \u001b[0;34m/\u001b[0m \u001b[0mpix_scale\u001b[0m\u001b[0;34m\u001b[0m\u001b[0;34m\u001b[0m\u001b[0m\n\u001b[1;32m     31\u001b[0m     \u001b[0;31m#Make the cut  in the image AND the WCS\u001b[0m\u001b[0;34m\u001b[0m\u001b[0;34m\u001b[0m\u001b[0;34m\u001b[0m\u001b[0m\n\u001b[0;32m---> 32\u001b[0;31m     \u001b[0mcut\u001b[0m \u001b[0;34m=\u001b[0m \u001b[0mCutout2D\u001b[0m\u001b[0;34m(\u001b[0m\u001b[0mimage\u001b[0m\u001b[0;34m,\u001b[0m \u001b[0;34m(\u001b[0m\u001b[0my\u001b[0m\u001b[0;34m,\u001b[0m \u001b[0mx\u001b[0m\u001b[0;34m)\u001b[0m\u001b[0;34m,\u001b[0m \u001b[0;34m(\u001b[0m\u001b[0mradius\u001b[0m\u001b[0;34m,\u001b[0m \u001b[0mradius\u001b[0m\u001b[0;34m)\u001b[0m\u001b[0;34m,\u001b[0m \u001b[0mwcs\u001b[0m \u001b[0;34m=\u001b[0m \u001b[0mwcs\u001b[0m\u001b[0;34m)\u001b[0m\u001b[0;34m\u001b[0m\u001b[0;34m\u001b[0m\u001b[0m\n\u001b[0m\u001b[1;32m     33\u001b[0m \u001b[0;34m\u001b[0m\u001b[0m\n\u001b[1;32m     34\u001b[0m     \u001b[0;32mreturn\u001b[0m \u001b[0mcut\u001b[0m\u001b[0;34m\u001b[0m\u001b[0;34m\u001b[0m\u001b[0m\n",
      "\u001b[0;32m/opt/anaconda3/lib/python3.7/site-packages/astropy/nddata/utils.py\u001b[0m in \u001b[0;36m__init__\u001b[0;34m(self, data, position, size, wcs, mode, fill_value, copy)\u001b[0m\n\u001b[1;32m    693\u001b[0m         cutout_data, input_position_cutout = extract_array(\n\u001b[1;32m    694\u001b[0m             \u001b[0mdata\u001b[0m\u001b[0;34m,\u001b[0m \u001b[0mtuple\u001b[0m\u001b[0;34m(\u001b[0m\u001b[0mshape\u001b[0m\u001b[0;34m)\u001b[0m\u001b[0;34m,\u001b[0m \u001b[0mpos_yx\u001b[0m\u001b[0;34m,\u001b[0m \u001b[0mmode\u001b[0m\u001b[0;34m=\u001b[0m\u001b[0mmode\u001b[0m\u001b[0;34m,\u001b[0m \u001b[0mfill_value\u001b[0m\u001b[0;34m=\u001b[0m\u001b[0mfill_value\u001b[0m\u001b[0;34m,\u001b[0m\u001b[0;34m\u001b[0m\u001b[0;34m\u001b[0m\u001b[0m\n\u001b[0;32m--> 695\u001b[0;31m             return_position=True)\n\u001b[0m\u001b[1;32m    696\u001b[0m         \u001b[0;32mif\u001b[0m \u001b[0mcopy\u001b[0m\u001b[0;34m:\u001b[0m\u001b[0;34m\u001b[0m\u001b[0;34m\u001b[0m\u001b[0m\n\u001b[1;32m    697\u001b[0m             \u001b[0mcutout_data\u001b[0m \u001b[0;34m=\u001b[0m \u001b[0mnp\u001b[0m\u001b[0;34m.\u001b[0m\u001b[0mcopy\u001b[0m\u001b[0;34m(\u001b[0m\u001b[0mcutout_data\u001b[0m\u001b[0;34m)\u001b[0m\u001b[0;34m\u001b[0m\u001b[0;34m\u001b[0m\u001b[0m\n",
      "\u001b[0;32m/opt/anaconda3/lib/python3.7/site-packages/astropy/nddata/utils.py\u001b[0m in \u001b[0;36mextract_array\u001b[0;34m(array_large, shape, position, mode, fill_value, return_position)\u001b[0m\n\u001b[1;32m    214\u001b[0m \u001b[0;34m\u001b[0m\u001b[0m\n\u001b[1;32m    215\u001b[0m     large_slices, small_slices = overlap_slices(array_large.shape,\n\u001b[0;32m--> 216\u001b[0;31m                                                 shape, position, mode=mode)\n\u001b[0m\u001b[1;32m    217\u001b[0m     \u001b[0mextracted_array\u001b[0m \u001b[0;34m=\u001b[0m \u001b[0marray_large\u001b[0m\u001b[0;34m[\u001b[0m\u001b[0mlarge_slices\u001b[0m\u001b[0;34m]\u001b[0m\u001b[0;34m\u001b[0m\u001b[0;34m\u001b[0m\u001b[0m\n\u001b[1;32m    218\u001b[0m     \u001b[0;32mif\u001b[0m \u001b[0mreturn_position\u001b[0m\u001b[0;34m:\u001b[0m\u001b[0;34m\u001b[0m\u001b[0;34m\u001b[0m\u001b[0m\n",
      "\u001b[0;32m/opt/anaconda3/lib/python3.7/site-packages/astropy/nddata/utils.py\u001b[0m in \u001b[0;36moverlap_slices\u001b[0;34m(large_array_shape, small_array_shape, position, mode)\u001b[0m\n\u001b[1;32m    108\u001b[0m     \u001b[0;32mfor\u001b[0m \u001b[0me_max\u001b[0m \u001b[0;32min\u001b[0m \u001b[0mindices_max\u001b[0m\u001b[0;34m:\u001b[0m\u001b[0;34m\u001b[0m\u001b[0;34m\u001b[0m\u001b[0m\n\u001b[1;32m    109\u001b[0m         \u001b[0;32mif\u001b[0m \u001b[0me_max\u001b[0m \u001b[0;34m<\u001b[0m \u001b[0;36m0\u001b[0m\u001b[0;34m:\u001b[0m\u001b[0;34m\u001b[0m\u001b[0;34m\u001b[0m\u001b[0m\n\u001b[0;32m--> 110\u001b[0;31m             \u001b[0;32mraise\u001b[0m \u001b[0mNoOverlapError\u001b[0m\u001b[0;34m(\u001b[0m\u001b[0;34m'Arrays do not overlap.'\u001b[0m\u001b[0;34m)\u001b[0m\u001b[0;34m\u001b[0m\u001b[0;34m\u001b[0m\u001b[0m\n\u001b[0m\u001b[1;32m    111\u001b[0m     \u001b[0;32mfor\u001b[0m \u001b[0me_min\u001b[0m\u001b[0;34m,\u001b[0m \u001b[0mlarge_shape\u001b[0m \u001b[0;32min\u001b[0m \u001b[0mzip\u001b[0m\u001b[0;34m(\u001b[0m\u001b[0mindices_min\u001b[0m\u001b[0;34m,\u001b[0m \u001b[0mlarge_array_shape\u001b[0m\u001b[0;34m)\u001b[0m\u001b[0;34m:\u001b[0m\u001b[0;34m\u001b[0m\u001b[0;34m\u001b[0m\u001b[0m\n\u001b[1;32m    112\u001b[0m         \u001b[0;32mif\u001b[0m \u001b[0me_min\u001b[0m \u001b[0;34m>=\u001b[0m \u001b[0mlarge_shape\u001b[0m\u001b[0;34m:\u001b[0m\u001b[0;34m\u001b[0m\u001b[0;34m\u001b[0m\u001b[0m\n",
      "\u001b[0;31mNoOverlapError\u001b[0m: Arrays do not overlap."
     ]
    }
   ],
   "source": [
    "# mk_hst_hsc_cuts((150.2311511, 2.0725000), size = 8)\n",
    "#mk_hst_hsc_cuts((150.2357461, 2.0736144))\n",
    "#mk_hst_hsc_cuts((150.2407120, 2.0651355))\n",
    "#mk_hst_hsc_cuts((150.2537000, 2.0480000))\n",
    "#mk_hst_hsc_cuts((150.3054000, 2.0823254))\n",
    "#mk_hst_hsc_cuts((150.3305180, 2.0707583))\n",
    "# mk_hst_hsc_cuts((149.4978988, 2.0766533))\n",
    "mk_hst_hsc_cuts((150.1947519, 2.0678959))"
   ]
  },
  {
   "cell_type": "code",
   "execution_count": null,
   "metadata": {},
   "outputs": [],
   "source": []
  },
  {
   "cell_type": "code",
   "execution_count": null,
   "metadata": {},
   "outputs": [],
   "source": []
  }
 ],
 "metadata": {
  "kernelspec": {
   "display_name": "Python 3",
   "language": "python",
   "name": "python3"
  },
  "language_info": {
   "codemirror_mode": {
    "name": "ipython",
    "version": 3
   },
   "file_extension": ".py",
   "mimetype": "text/x-python",
   "name": "python",
   "nbconvert_exporter": "python",
   "pygments_lexer": "ipython3",
   "version": "3.7.6"
  }
 },
 "nbformat": 4,
 "nbformat_minor": 2
}
