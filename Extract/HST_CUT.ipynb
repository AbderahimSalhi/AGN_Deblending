{
 "cells": [
  {
   "cell_type": "code",
   "execution_count": 1,
   "metadata": {},
   "outputs": [],
   "source": [
    "import numpy as np\n",
    "import scarlet\n",
    "import scarlet.display\n",
    "from scarlet.display import AsinhMapping\n",
    "from scarlet.initialization import build_initialization_coadd\n",
    "\n",
    "from astropy.wcs import WCS\n",
    "\n",
    "\n",
    "import pylab as plt\n",
    "import astropy.io.fits as fits\n",
    "from astropy.io import fits as pf\n",
    "from astropy.visualization import astropy_mpl_style\n",
    "import os, re\n",
    "\n",
    "%matplotlib inline\n",
    "\n",
    "plt.style.use(astropy_mpl_style)\n",
    "\n",
    "import matplotlib\n",
    "import matplotlib.pyplot as plt\n",
    "\n",
    "# use a better colormap and don't interpolate the pixels\n",
    "matplotlib.rc('image', cmap='gist_stern')\n",
    "matplotlib.rc('image', interpolation='none')\n",
    "\n",
    "from astropy.nddata import Cutout2D\n",
    "import warnings\n",
    "warnings.simplefilter(\"ignore\")\n"
   ]
  },
  {
   "cell_type": "code",
   "execution_count": 2,
   "metadata": {},
   "outputs": [],
   "source": [
    "path = '/Users/rahim/Desktop/repo/AGN_Deblending/Extract/data/acs_mosaic_2.0/'\n",
    "\n",
    "images = []\n",
    "wcss = []\n",
    "\n",
    "for i in range (2, len(os.listdir(path))+1):\n",
    "    for image in os.listdir(path):\n",
    "        if re.match(str(i)+'_', image):\n",
    "            hdus = fits.open(path + image)\n",
    "            wcs = WCS(hdus[0].header)\n",
    "            img = hdus[0].data\n",
    "            ny, nx = img.shape\n",
    "            cut = Cutout2D(img, (ny//2, nx//2), (250, 250), wcs = wcs)\n",
    "            images.append(cut.data)\n",
    "            wcss.append(cut.wcs)\n",
    "#             plt.imshow(img)\n",
    "#             plt.show()\n",
    "\n",
    "# # creat a folder to save the HSC_cube images \n",
    "path_hst_cut = '/Users/rahim/Desktop/repo/AGN_Deblending/Extract/data/HST_CUT'\n",
    "    \n",
    "\n",
    "ind = 2\n",
    "for i in range(0, len(images)):\n",
    "    \n",
    "    hdu = fits.PrimaryHDU(images[i], wcss[i].to_header())\n",
    "\n",
    "    hdul = pf.HDUList([hdu])\n",
    "    hdul.writeto(path_hst_cut + f'/{ind}-hst_cut_cosmos.fits', clobber=True)\n",
    "    ind += 1\n",
    "\n",
    "\n",
    "#     asinh= scarlet.display.AsinhMapping(minimum=img.min(), stretch=1, Q=1)\n",
    "#     img_rgb= scarlet.display.img_to_rgb(images[i], norm=asinh)\n",
    "\n",
    "#     plt.imshow(img_rgb)\n",
    "#     plt.show()\n"
   ]
  },
  {
   "cell_type": "code",
   "execution_count": null,
   "metadata": {},
   "outputs": [],
   "source": []
  }
 ],
 "metadata": {
  "kernelspec": {
   "display_name": "Python 3",
   "language": "python",
   "name": "python3"
  },
  "language_info": {
   "codemirror_mode": {
    "name": "ipython",
    "version": 3
   },
   "file_extension": ".py",
   "mimetype": "text/x-python",
   "name": "python",
   "nbconvert_exporter": "python",
   "pygments_lexer": "ipython3",
   "version": "3.7.6"
  }
 },
 "nbformat": 4,
 "nbformat_minor": 4
}
