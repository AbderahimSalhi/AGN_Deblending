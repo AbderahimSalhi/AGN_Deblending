{
 "cells": [
  {
   "cell_type": "code",
   "execution_count": null,
   "metadata": {},
   "outputs": [],
   "source": [
    "from os import listdir\n",
    "from os.path import isfile, join\n",
    "import subprocess\n",
    "import matplotlib.pyplot as plt\n",
    "import numpy as np\n",
    "import os\n",
    "import galsim\n",
    "from astropy.io import fits as pf\n",
    "\n",
    "# Array of filenames in folder acs_mosaic_2.0\n",
    "files = [f for f in listdir('../acs_mosaic_2.0') if isfile(join('../acs_mosaic_2.0', f))]\n",
    "#Galsim catalog \n",
    "galsim_file = '/Users/remy/Desktop/LSST_Project/GalSim/examples/data/COSMOS_23.5_training_sample/real_galaxy_catalog_23.5.fits'\n",
    "galsim_cat = pf.open(galsim_file)[1].data\n"
   ]
  },
  {
   "cell_type": "markdown",
   "metadata": {},
   "source": [
    "Galsim is a simulation software that allows to reproduce astronomical scenes of the deep sky. For this it uses analytical profiles, but also models of galaxies built from real images of the COSMOS fields. The good news is that all of our AGN images are from the COSMOS fields too!\n",
    "\n",
    "Galsim uses a catalog of galaxies and allows user to draw images for these galaxies on a pixel grid, but also allows to draw their PSFs. Be sure to download the catalog here: [https://github.com/GalSim-developers/GalSim/wiki/RealGalaxy%20Data](https://github.com/GalSim-developers/GalSim/wiki/RealGalaxy%20Data)\n",
    "and to install galsim."
   ]
  },
  {
   "cell_type": "code",
   "execution_count": null,
   "metadata": {
    "scrolled": false
   },
   "outputs": [],
   "source": [
    "i=2 #Index of files start at 2\n",
    "ras = []\n",
    "decs = []\n",
    "#Stores ra and dec coordinates of HST AGNs\n",
    "for f in files:\n",
    "    ra, dec = f.split('_')[1:3]\n",
    "    if f.split('_')[-1] == 'sci.fits':\n",
    "        #print(ra, dec)\n",
    "        ras.append(np.float(ra))\n",
    "        decs.append(np.float(dec))\n",
    "        i+=1\n",
    "\n",
    "#Now arrays ras and decs contain the ra-dec coordinates of the centers of all the HST AGN images\n"
   ]
  },
  {
   "cell_type": "code",
   "execution_count": null,
   "metadata": {},
   "outputs": [],
   "source": [
    "#Coordinates of all the galaxies in the galsim COSMOS sample\n",
    "gal_ra, gal_dec = [], []\n",
    "for g in galsim_cat:\n",
    "    ra, dec = g[1], g[2]\n",
    "    gal_ra.append(ra)\n",
    "    gal_dec.append(dec)\n",
    "\n",
    "#Positions of AGN and galsim sources\n",
    "plt.figure(figsize = (15,15))\n",
    "plt.title('Position of galsim galaxies and AGNs', fontsize = '30')\n",
    "plt.plot(np.array(gal_ra), np.array(gal_dec), 'o', label = 'galsim galaxies')\n",
    "plt.plot(np.array(ras), np.array(decs), 'o', label = 'AGN positions')\n",
    "plt.xlabel('Ra', fontsize = 20)\n",
    "plt.ylabel('Dec', fontsize = 20)\n",
    "plt.legend()\n",
    "plt.show()\n",
    "print(i-2)"
   ]
  },
  {
   "cell_type": "code",
   "execution_count": null,
   "metadata": {},
   "outputs": [],
   "source": [
    "def galsim_psf_picker(index, catalog):\n",
    "    \"\"\" A function that extract the psf of a galsim galaxy\n",
    "    \n",
    "    Paramters\n",
    "    ---------\n",
    "    index: int \n",
    "        index of the galsim galaxy for which we want to extract the psf\n",
    "    catalog: list\n",
    "        list of galsim object from a galsim catalog\n",
    "    returns\n",
    "    -------\n",
    "    psf: array\n",
    "        image of the psf for galsim image at index `index`\n",
    "    \"\"\"\n",
    "    gal_cat = galsim.RealGalaxyCatalog(file_name=catalog)    \n",
    "    psf = gal_cat.getPSF(index).drawImage(nx=51, ny=51, scale=0.03, method='real_space', offset = (-1,-1))\n",
    "    return psf.array\n",
    "\n",
    "# Example of how the psf picker works:\n",
    "# Show the psf for the first galaxy in the galsim catalog:\n",
    "psf0 = galsim_psf_picker(0, galsim_file)\n",
    "print(np.where(psf0 == np.max(psf0)))\n",
    "plt.title('psf')\n",
    "plt.imshow(psf0, cmap = 'gist_stern')#Use np.log10(psf0) to reveal seemingly hidden features.\n",
    "plt.axis('off') #Remove the indexation of the x and y axes\n",
    "plt.show()"
   ]
  },
  {
   "cell_type": "markdown",
   "metadata": {},
   "source": [
    "What we want is to extract the HST PSF for each AGN (orange point on the first plot).\n",
    "To do so, we use galsim images. Galsim has a set of PSF modeled for each galaxy in the COSMOS sample. \n",
    "catalog `gal_cat` contains a list of galaxies, the coordinates of which are represented in blue in the first plot and stored in variables `gal_ra` and `gal_dec`.\n",
    "\n",
    "For each AGN, we will find the closest galaxy in the galsim sample and record its index. then we will use the function `galsim_psf_picker` to extract the psf from this galaxy and we will use it a psf for the corresponding AGN. To do so, we will save the psf as a file that has the following name: \n",
    "`'index_ra_dec_HST_psf.fits'`. In the name ra and dec should be replaced by the value of the coordinates of the psf and index should be the index of the AGN to which this PSF corresponds.\n",
    "\n",
    "Make sure you understand what every variable contains. Doing a print of the variables that you are not sure about helps.\n",
    "\n",
    "You can save images as fits files using instructions found here [https://docs.astropy.org/en/stable/io/fits/#creating-a-new-fits-file](https://docs.astropy.org/en/stable/io/fits/#creating-a-new-fits-file)"
   ]
  },
  {
   "cell_type": "code",
   "execution_count": null,
   "metadata": {},
   "outputs": [],
   "source": [
    "# Your turn now!\n",
    "\n",
    "# We need a psf for each AGN galaxy in our sample \n",
    "# This requires finding for each AGN galaxy the closest galsim galaxy. \n",
    "\n",
    "# We will start by creating an array of size 2*N (N: the number of galaxies in our sample) that contains the coordinates of the AGN galaxies.\n",
    "#Note, at the moment, these coordinates are in arrays `ras` and `decs` of size N each\n",
    "coord = np.array(['''fill in'''])\n",
    "for c in coord:\n",
    "    #c should be a coordinate point of size 2 with the ra,dec coordinates of an AGN galaxy\n",
    "    #Now compute the distance between c and each point of the galsim catalog\n",
    "    d = '''fill in'''\n",
    "    # find the index of the closest galsim galaxy to `c`\n",
    "    ind = np.where('''fill in''')[0][0]\n",
    "    #Exctract the psf for the galsim galaxy at index `ind`\n",
    "    psf = '''fill in'''\n",
    "    #Save the PSF in a fits file which name starts with the index of the AGN galaxy (be careful, it's not the index of the galsim galaxy)\n",
    "    hdu = pf.PrimaryHDU(psf)\n",
    "    hdul = pf.HDUList([hdu])\n",
    "    #The final name of your files should look something like '2-psf-HST-COSMOS.fits', '3-psf-HST-COSMOS.fits', etc\n",
    "    hdul.writeto('''name of your file.fits''')"
   ]
  },
  {
   "cell_type": "code",
   "execution_count": null,
   "metadata": {},
   "outputs": [],
   "source": []
  }
 ],
 "metadata": {
  "kernelspec": {
   "display_name": "Python 3",
   "language": "python",
   "name": "python3"
  },
  "language_info": {
   "codemirror_mode": {
    "name": "ipython",
    "version": 3
   },
   "file_extension": ".py",
   "mimetype": "text/x-python",
   "name": "python",
   "nbconvert_exporter": "python",
   "pygments_lexer": "ipython3",
   "version": "3.7.3"
  }
 },
 "nbformat": 4,
 "nbformat_minor": 2
}
